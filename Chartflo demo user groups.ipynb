{
 "cells": [
  {
   "cell_type": "markdown",
   "metadata": {},
   "source": [
    "## Chart user group members\n",
    "\n",
    "### 1 . Get the data"
   ]
  },
  {
   "cell_type": "code",
   "execution_count": null,
   "metadata": {},
   "outputs": [],
   "source": [
    "from chartflo.charts import chart\n",
    "\n",
    "from django.contrib.auth.models import Group, User\n",
    "\n",
    "groups = Group.objects.all()\n",
    "groups_count = {}\n",
    "for group in groups:\n",
    "    count = group.user_set.count()\n",
    "    groups_count[group.name] = count\n",
    "print(groups_count)"
   ]
  },
  {
   "cell_type": "markdown",
   "metadata": {},
   "source": [
    "### 2. Load the charting libraries"
   ]
  },
  {
   "cell_type": "code",
   "execution_count": null,
   "metadata": {},
   "outputs": [],
   "source": [
    "import holoviews as hv\n",
    "hv.extension(\"bokeh\")"
   ]
  },
  {
   "cell_type": "markdown",
   "metadata": {},
   "source": [
    "### 3. Draw the chart from the declared data"
   ]
  },
  {
   "cell_type": "code",
   "execution_count": null,
   "metadata": {},
   "outputs": [],
   "source": [
    "# params are: dataset, X field, Y field, chart type\n",
    "chart.draw(groups_count, \"Name\", \"Num\", \"bar\")"
   ]
  },
  {
   "cell_type": "markdown",
   "metadata": {},
   "source": [
    "### Create an horizontal bar chart using the Altair engine\n",
    "\n",
    "First we convert the data to a pandas dataframe for Altair to get the column names"
   ]
  },
  {
   "cell_type": "code",
   "execution_count": null,
   "metadata": {},
   "outputs": [],
   "source": [
    "df = chart.convert_dataset(groups_count, \"Name\", \"Num\")\n",
    "df.head()"
   ]
  },
  {
   "cell_type": "markdown",
   "metadata": {},
   "source": [
    "Switch chart engine and set the x axis as the Name column of nominative type and the y axis as the Num column quantitative type:"
   ]
  },
  {
   "cell_type": "code",
   "execution_count": null,
   "metadata": {},
   "outputs": [],
   "source": [
    "chart.engine = \"altair\"\n",
    "x = (\"Num\", \"Num:Q\")\n",
    "y = (\"Name\", \"Name:N\")"
   ]
  },
  {
   "cell_type": "markdown",
   "metadata": {},
   "source": [
    "Set the color on the Name field"
   ]
  },
  {
   "cell_type": "code",
   "execution_count": null,
   "metadata": {},
   "outputs": [],
   "source": [
    "opts = dict(color=\"Name:N\", width=640)\n",
    "c = chart.draw(df, x, y, \"bar\", opts=opts)\n",
    "c"
   ]
  },
  {
   "cell_type": "markdown",
   "metadata": {},
   "source": [
    "## Chart user roles\n",
    "\n",
    "Get the data and put it in a dataframe:"
   ]
  },
  {
   "cell_type": "code",
   "execution_count": null,
   "metadata": {},
   "outputs": [],
   "source": [
    "users = User.objects.filter(is_active=True)\n",
    "staff = users.filter(is_staff=True, is_superuser=False).count()\n",
    "superuser = users.filter(is_superuser=True).count()\n",
    "normal = users.filter(is_staff=False).count()\n",
    "data = {\"users\":normal, \"staff\": staff, \"superuser\": superuser}\n",
    "df = chart.convert_dataset(data, \"Role\", \"Num\")\n",
    "df.head()"
   ]
  },
  {
   "cell_type": "markdown",
   "metadata": {},
   "source": [
    "Draw the chart:"
   ]
  },
  {
   "cell_type": "code",
   "execution_count": null,
   "metadata": {},
   "outputs": [],
   "source": [
    "opts = dict(color=\"Role:N\", width=450)\n",
    "x = (\"Num\", \"Num:Q\")\n",
    "y = (\"Role\", \"Role:N\")\n",
    "c = chart.draw(df, x, y, \"bar\", opts=opts)\n",
    "c"
   ]
  },
  {
   "cell_type": "code",
   "execution_count": null,
   "metadata": {},
   "outputs": [],
   "source": []
  }
 ],
 "metadata": {
  "kernelspec": {
   "display_name": "Django Shell-Plus",
   "language": "python",
   "name": "django_extensions"
  },
  "language_info": {
   "codemirror_mode": {
    "name": "ipython",
    "version": 3
   },
   "file_extension": ".py",
   "mimetype": "text/x-python",
   "name": "python",
   "nbconvert_exporter": "python",
   "pygments_lexer": "ipython3",
   "version": "3.6.3"
  }
 },
 "nbformat": 4,
 "nbformat_minor": 2
}
